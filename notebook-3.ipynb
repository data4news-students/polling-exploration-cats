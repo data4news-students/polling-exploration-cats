{
 "cells": [
  {
   "cell_type": "markdown",
   "metadata": {},
   "source": [
    "# Python and R"
   ]
  },
  {
   "cell_type": "code",
   "execution_count": 1,
   "metadata": {},
   "outputs": [],
   "source": [
    "%load_ext rpy2.ipython\n",
    "%load_ext autoreload\n",
    "%autoreload 2\n",
    "\n",
    "%matplotlib inline  \n",
    "from matplotlib import rcParams\n",
    "rcParams['figure.figsize'] = (16, 100)\n",
    "\n",
    "import warnings\n",
    "from rpy2.rinterface import RRuntimeWarning\n",
    "warnings.filterwarnings(\"ignore\") # Ignore all warnings\n",
    "# warnings.filterwarnings(\"ignore\", category=RRuntimeWarning) # Show some warnings\n",
    "\n",
    "import pandas as pd\n",
    "import numpy as np\n",
    "import matplotlib.pyplot as plt\n",
    "from IPython.display import display, HTML\n",
    "\n",
    "# show all columns on pandas dataframes\n",
    "pd.set_option('display.max_columns', None)\n"
   ]
  },
  {
   "cell_type": "code",
   "execution_count": 2,
   "metadata": {},
   "outputs": [
    {
     "data": {
      "application/javascript": "// Disable auto-scrolling\nIPython.OutputArea.prototype._should_scroll = function(lines) {\n    return false;\n}\n",
      "text/plain": [
       "<IPython.core.display.Javascript object>"
      ]
     },
     "metadata": {},
     "output_type": "display_data"
    }
   ],
   "source": [
    "%%javascript\n",
    "// Disable auto-scrolling\n",
    "IPython.OutputArea.prototype._should_scroll = function(lines) {\n",
    "    return false;\n",
    "}"
   ]
  },
  {
   "cell_type": "code",
   "execution_count": 3,
   "metadata": {},
   "outputs": [
    {
     "name": "stderr",
     "output_type": "stream",
     "text": [
      "R[write to console]: Loading required package: tidyverse\n",
      "\n"
     ]
    },
    {
     "name": "stdout",
     "output_type": "stream",
     "text": [
      "── Attaching packages ─────────────────────────────────────── tidyverse 1.3.2 ──\n",
      "✔ ggplot2 3.4.0      ✔ purrr   1.0.1 \n",
      "✔ tibble  3.1.8      ✔ dplyr   1.0.10\n",
      "✔ tidyr   1.2.1      ✔ stringr 1.5.0 \n",
      "✔ readr   2.1.3      ✔ forcats 0.5.2 \n",
      "── Conflicts ────────────────────────────────────────── tidyverse_conflicts() ──\n",
      "✖ dplyr::filter() masks stats::filter()\n",
      "✖ dplyr::lag()    masks stats::lag()\n"
     ]
    }
   ],
   "source": [
    "%%R\n",
    "\n",
    "# My commonly used R imports\n",
    "\n",
    "require('tidyverse')\n"
   ]
  },
  {
   "cell_type": "markdown",
   "metadata": {},
   "source": [
    "\n",
    "# Read the data\n",
    "\n"
   ]
  },
  {
   "cell_type": "markdown",
   "metadata": {},
   "source": [
    "The cell below loads the data in python:"
   ]
  },
  {
   "cell_type": "code",
   "execution_count": 4,
   "metadata": {},
   "outputs": [
    {
     "data": {
      "text/html": [
       "<div>\n",
       "<style scoped>\n",
       "    .dataframe tbody tr th:only-of-type {\n",
       "        vertical-align: middle;\n",
       "    }\n",
       "\n",
       "    .dataframe tbody tr th {\n",
       "        vertical-align: top;\n",
       "    }\n",
       "\n",
       "    .dataframe thead th {\n",
       "        text-align: right;\n",
       "    }\n",
       "</style>\n",
       "<table border=\"1\" class=\"dataframe\">\n",
       "  <thead>\n",
       "    <tr style=\"text-align: right;\">\n",
       "      <th></th>\n",
       "      <th>poll_id</th>\n",
       "      <th>question_id</th>\n",
       "      <th>race_id</th>\n",
       "      <th>year</th>\n",
       "      <th>race</th>\n",
       "      <th>location</th>\n",
       "      <th>type_simple</th>\n",
       "      <th>type_detail</th>\n",
       "      <th>pollster</th>\n",
       "      <th>pollster_rating_id</th>\n",
       "      <th>methodology</th>\n",
       "      <th>partisan</th>\n",
       "      <th>polldate</th>\n",
       "      <th>samplesize</th>\n",
       "      <th>cand1_name</th>\n",
       "      <th>cand1_id</th>\n",
       "      <th>cand1_party</th>\n",
       "      <th>cand1_pct</th>\n",
       "      <th>cand2_name</th>\n",
       "      <th>cand2_id</th>\n",
       "      <th>cand2_party</th>\n",
       "      <th>cand2_pct</th>\n",
       "      <th>cand3_pct</th>\n",
       "      <th>margin_poll</th>\n",
       "      <th>electiondate</th>\n",
       "      <th>cand1_actual</th>\n",
       "      <th>cand2_actual</th>\n",
       "      <th>margin_actual</th>\n",
       "      <th>bias</th>\n",
       "      <th>rightcall</th>\n",
       "      <th>comment</th>\n",
       "    </tr>\n",
       "  </thead>\n",
       "  <tbody>\n",
       "    <tr>\n",
       "      <th>8358</th>\n",
       "      <td>47889</td>\n",
       "      <td>75117</td>\n",
       "      <td>91</td>\n",
       "      <td>2016</td>\n",
       "      <td>2016_Sen-G_CT</td>\n",
       "      <td>CT</td>\n",
       "      <td>Sen-G</td>\n",
       "      <td>Sen-G</td>\n",
       "      <td>SurveyMonkey</td>\n",
       "      <td>324</td>\n",
       "      <td>Online</td>\n",
       "      <td>NaN</td>\n",
       "      <td>10/28/16</td>\n",
       "      <td>554.0</td>\n",
       "      <td>Richard Blumenthal</td>\n",
       "      <td>10205</td>\n",
       "      <td>DEM</td>\n",
       "      <td>59.0</td>\n",
       "      <td>Dan Carter</td>\n",
       "      <td>10206</td>\n",
       "      <td>REP</td>\n",
       "      <td>38.0</td>\n",
       "      <td>NaN</td>\n",
       "      <td>21.0</td>\n",
       "      <td>11/8/16</td>\n",
       "      <td>63.19</td>\n",
       "      <td>34.62</td>\n",
       "      <td>28.57</td>\n",
       "      <td>-7.57</td>\n",
       "      <td>1.0</td>\n",
       "      <td>NaN</td>\n",
       "    </tr>\n",
       "    <tr>\n",
       "      <th>1344</th>\n",
       "      <td>74318</td>\n",
       "      <td>139556</td>\n",
       "      <td>3118</td>\n",
       "      <td>2002</td>\n",
       "      <td>2002_House-G_UT-2</td>\n",
       "      <td>UT-2</td>\n",
       "      <td>House-G</td>\n",
       "      <td>House-G</td>\n",
       "      <td>Tarrance Group</td>\n",
       "      <td>333</td>\n",
       "      <td>Live Phone</td>\n",
       "      <td>R</td>\n",
       "      <td>10/24/02</td>\n",
       "      <td>300.0</td>\n",
       "      <td>Jim Matheson</td>\n",
       "      <td>13882</td>\n",
       "      <td>DEM</td>\n",
       "      <td>44.0</td>\n",
       "      <td>John Swallow</td>\n",
       "      <td>13883</td>\n",
       "      <td>REP</td>\n",
       "      <td>43.0</td>\n",
       "      <td>NaN</td>\n",
       "      <td>1.0</td>\n",
       "      <td>11/5/02</td>\n",
       "      <td>49.43</td>\n",
       "      <td>48.69</td>\n",
       "      <td>0.73</td>\n",
       "      <td>0.27</td>\n",
       "      <td>1.0</td>\n",
       "      <td>for unspecified Republican sponsor</td>\n",
       "    </tr>\n",
       "    <tr>\n",
       "      <th>2123</th>\n",
       "      <td>4524</td>\n",
       "      <td>5859</td>\n",
       "      <td>779</td>\n",
       "      <td>2004</td>\n",
       "      <td>2004_Pres-G_MO</td>\n",
       "      <td>MO</td>\n",
       "      <td>Pres-G</td>\n",
       "      <td>Pres-G</td>\n",
       "      <td>Research 2000</td>\n",
       "      <td>281</td>\n",
       "      <td>Live Phone</td>\n",
       "      <td>NaN</td>\n",
       "      <td>10/23/04</td>\n",
       "      <td>800.0</td>\n",
       "      <td>John Kerry</td>\n",
       "      <td>157</td>\n",
       "      <td>DEM</td>\n",
       "      <td>45.0</td>\n",
       "      <td>George W. Bush</td>\n",
       "      <td>182</td>\n",
       "      <td>REP</td>\n",
       "      <td>48.0</td>\n",
       "      <td>NaN</td>\n",
       "      <td>-3.0</td>\n",
       "      <td>11/2/04</td>\n",
       "      <td>46.10</td>\n",
       "      <td>53.30</td>\n",
       "      <td>-7.20</td>\n",
       "      <td>4.20</td>\n",
       "      <td>1.0</td>\n",
       "      <td>NaN</td>\n",
       "    </tr>\n",
       "    <tr>\n",
       "      <th>1434</th>\n",
       "      <td>25401</td>\n",
       "      <td>30641</td>\n",
       "      <td>1666</td>\n",
       "      <td>2002</td>\n",
       "      <td>2002_Sen-GS_MO</td>\n",
       "      <td>MO</td>\n",
       "      <td>Sen-G</td>\n",
       "      <td>Sen-GS</td>\n",
       "      <td>American Viewpoint</td>\n",
       "      <td>10</td>\n",
       "      <td>Live Phone</td>\n",
       "      <td>R</td>\n",
       "      <td>10/28/02</td>\n",
       "      <td>600.0</td>\n",
       "      <td>Jean Carnahan</td>\n",
       "      <td>3475</td>\n",
       "      <td>DEM</td>\n",
       "      <td>42.0</td>\n",
       "      <td>Jim Talent</td>\n",
       "      <td>3474</td>\n",
       "      <td>REP</td>\n",
       "      <td>49.0</td>\n",
       "      <td>NaN</td>\n",
       "      <td>-7.0</td>\n",
       "      <td>11/5/02</td>\n",
       "      <td>48.67</td>\n",
       "      <td>49.80</td>\n",
       "      <td>-1.13</td>\n",
       "      <td>-5.87</td>\n",
       "      <td>1.0</td>\n",
       "      <td>for Jim Talent</td>\n",
       "    </tr>\n",
       "    <tr>\n",
       "      <th>10110</th>\n",
       "      <td>71888</td>\n",
       "      <td>134751</td>\n",
       "      <td>6271</td>\n",
       "      <td>2020</td>\n",
       "      <td>2020_Sen-G_GA</td>\n",
       "      <td>GA</td>\n",
       "      <td>Sen-G</td>\n",
       "      <td>Sen-G</td>\n",
       "      <td>YouGov</td>\n",
       "      <td>391</td>\n",
       "      <td>Online</td>\n",
       "      <td>NaN</td>\n",
       "      <td>10/22/20</td>\n",
       "      <td>1090.0</td>\n",
       "      <td>Jon Ossoff</td>\n",
       "      <td>14567</td>\n",
       "      <td>DEM</td>\n",
       "      <td>46.0</td>\n",
       "      <td>David A. Perdue</td>\n",
       "      <td>14568</td>\n",
       "      <td>REP</td>\n",
       "      <td>47.0</td>\n",
       "      <td>NaN</td>\n",
       "      <td>-1.0</td>\n",
       "      <td>11/3/20</td>\n",
       "      <td>47.95</td>\n",
       "      <td>49.73</td>\n",
       "      <td>-1.78</td>\n",
       "      <td>0.78</td>\n",
       "      <td>1.0</td>\n",
       "      <td>for CBS News</td>\n",
       "    </tr>\n",
       "  </tbody>\n",
       "</table>\n",
       "</div>"
      ],
      "text/plain": [
       "       poll_id  question_id  race_id  year               race location  \\\n",
       "8358     47889        75117       91  2016      2016_Sen-G_CT       CT   \n",
       "1344     74318       139556     3118  2002  2002_House-G_UT-2     UT-2   \n",
       "2123      4524         5859      779  2004     2004_Pres-G_MO       MO   \n",
       "1434     25401        30641     1666  2002     2002_Sen-GS_MO       MO   \n",
       "10110    71888       134751     6271  2020      2020_Sen-G_GA       GA   \n",
       "\n",
       "      type_simple type_detail            pollster  pollster_rating_id  \\\n",
       "8358        Sen-G       Sen-G        SurveyMonkey                 324   \n",
       "1344      House-G     House-G      Tarrance Group                 333   \n",
       "2123       Pres-G      Pres-G       Research 2000                 281   \n",
       "1434        Sen-G      Sen-GS  American Viewpoint                  10   \n",
       "10110       Sen-G       Sen-G              YouGov                 391   \n",
       "\n",
       "      methodology partisan  polldate  samplesize          cand1_name  \\\n",
       "8358       Online      NaN  10/28/16       554.0  Richard Blumenthal   \n",
       "1344   Live Phone        R  10/24/02       300.0        Jim Matheson   \n",
       "2123   Live Phone      NaN  10/23/04       800.0          John Kerry   \n",
       "1434   Live Phone        R  10/28/02       600.0       Jean Carnahan   \n",
       "10110      Online      NaN  10/22/20      1090.0          Jon Ossoff   \n",
       "\n",
       "       cand1_id cand1_party  cand1_pct       cand2_name  cand2_id cand2_party  \\\n",
       "8358      10205         DEM       59.0       Dan Carter     10206         REP   \n",
       "1344      13882         DEM       44.0     John Swallow     13883         REP   \n",
       "2123        157         DEM       45.0   George W. Bush       182         REP   \n",
       "1434       3475         DEM       42.0       Jim Talent      3474         REP   \n",
       "10110     14567         DEM       46.0  David A. Perdue     14568         REP   \n",
       "\n",
       "       cand2_pct  cand3_pct  margin_poll electiondate  cand1_actual  \\\n",
       "8358        38.0        NaN         21.0      11/8/16         63.19   \n",
       "1344        43.0        NaN          1.0      11/5/02         49.43   \n",
       "2123        48.0        NaN         -3.0      11/2/04         46.10   \n",
       "1434        49.0        NaN         -7.0      11/5/02         48.67   \n",
       "10110       47.0        NaN         -1.0      11/3/20         47.95   \n",
       "\n",
       "       cand2_actual  margin_actual  bias  rightcall  \\\n",
       "8358          34.62          28.57 -7.57        1.0   \n",
       "1344          48.69           0.73  0.27        1.0   \n",
       "2123          53.30          -7.20  4.20        1.0   \n",
       "1434          49.80          -1.13 -5.87        1.0   \n",
       "10110         49.73          -1.78  0.78        1.0   \n",
       "\n",
       "                                  comment  \n",
       "8358                                  NaN  \n",
       "1344   for unspecified Republican sponsor  \n",
       "2123                                  NaN  \n",
       "1434                       for Jim Talent  \n",
       "10110                        for CBS News  "
      ]
     },
     "execution_count": 4,
     "metadata": {},
     "output_type": "execute_result"
    }
   ],
   "source": [
    "df = pd.read_csv('raw-polls.csv')\n",
    "df.sample(5)"
   ]
  },
  {
   "cell_type": "markdown",
   "metadata": {},
   "source": [
    "The cell below loads the same data in R:"
   ]
  },
  {
   "cell_type": "code",
   "execution_count": 5,
   "metadata": {},
   "outputs": [
    {
     "name": "stdout",
     "output_type": "stream",
     "text": [
      "Rows: 10776 Columns: 31\n",
      "── Column specification ────────────────────────────────────────────────────────\n",
      "Delimiter: \",\"\n",
      "chr (14): race, location, type_simple, type_detail, pollster, methodology, p...\n",
      "dbl (17): poll_id, question_id, race_id, year, pollster_rating_id, samplesiz...\n",
      "\n",
      "ℹ Use `spec()` to retrieve the full column specification for this data.\n",
      "ℹ Specify the column types or set `show_col_types = FALSE` to quiet this message.\n",
      "# A tibble: 10,776 × 31\n",
      "   poll_id questio…¹ race_id  year race  locat…² type_…³ type_…⁴ polls…⁵ polls…⁶\n",
      "     <dbl>     <dbl>   <dbl> <dbl> <chr> <chr>   <chr>   <chr>   <chr>     <dbl>\n",
      " 1   26013     87909    1455  1998 1998… NY      Gov-G   Gov-G   Blum &…      32\n",
      " 2   26255     87926    1456  1998 1998… OH      Gov-G   Gov-G   Univer…     346\n",
      " 3   26026     31266    1736  1998 1998… NV      Sen-G   Sen-G   FM3 Re…      91\n",
      " 4   26013     31253    1738  1998 1998… NY      Sen-G   Sen-G   Blum &…      32\n",
      " 5   63632    117103    1738  1998 1998… NY      Sen-G   Sen-G   Garin-…     113\n",
      " 6   26255     31495    1741  1998 1998… OH      Sen-G   Sen-G   Univer…     346\n",
      " 7   64053    117875    1966  1998 1998… ID-1    House-G House-G Garin-…     113\n",
      " 8   64053    117876    1967  1998 1998… ID-2    House-G House-G Garin-…     113\n",
      " 9   28268     33546    8661  1998 1998… US      House-G House-G CBS Ne…      36\n",
      "10   28267     33545    8661  1998 1998… US      House-G House-G Zogby …     395\n",
      "# … with 10,766 more rows, 21 more variables: methodology <chr>,\n",
      "#   partisan <chr>, polldate <chr>, samplesize <dbl>, cand1_name <chr>,\n",
      "#   cand1_id <dbl>, cand1_party <chr>, cand1_pct <dbl>, cand2_name <chr>,\n",
      "#   cand2_id <dbl>, cand2_party <chr>, cand2_pct <dbl>, cand3_pct <dbl>,\n",
      "#   margin_poll <dbl>, electiondate <chr>, cand1_actual <dbl>,\n",
      "#   cand2_actual <dbl>, margin_actual <dbl>, bias <dbl>, rightcall <dbl>,\n",
      "#   comment <chr>, and abbreviated variable names ¹​question_id, ²​location, …\n",
      "# ℹ Use `print(n = ...)` to see more rows, and `colnames()` to see all variable names\n"
     ]
    }
   ],
   "source": [
    "%%R\n",
    "\n",
    "df <- read_csv('raw-polls.csv')\n",
    "\n",
    "df"
   ]
  },
  {
   "cell_type": "markdown",
   "metadata": {},
   "source": [
    "# Guided Exploration\n",
    "\n",
    "In this section you'll make a few charts to explore the data. Here I will raise some questions for you to dig around in the data and answer. You can use summary statistics and/or charts to help answer the questions. You will have to make some methodological choices along the way. Be aware of what choices you're making! I'll ask you about them shortly.\n",
    "\n",
    "\n",
    "## Question 1: How accurate are polls from the following pollsters?\n",
    "Characterize the accuracy of each of these pollsters in a sentence or two. Then, write another few sentences justifying your characterization with insights from the data.\n",
    "- Siena College/The New York Times Upshot\n",
    "- Jayhawk Consulting\n",
    "- Fox News/Beacon Research/Shaw & Co. Research\n",
    "- Brown University\n",
    "- American Research Group\n"
   ]
  },
  {
   "cell_type": "markdown",
   "metadata": {},
   "source": [
    "👉 **Siena College/The New York Times Upshot** "
   ]
  },
  {
   "cell_type": "code",
   "execution_count": 6,
   "metadata": {},
   "outputs": [],
   "source": [
    "%%R\n",
    "nyt_df <- df %>%\n",
    "    filter(pollster=='Siena College/The New York Times Upshot') # Filter data to polls for  Siena College/The New York Times Upshot only"
   ]
  },
  {
   "cell_type": "code",
   "execution_count": 9,
   "metadata": {},
   "outputs": [
    {
     "name": "stdout",
     "output_type": "stream",
     "text": [
      "# A tibble: 83 × 31\n",
      "   poll_id questio…¹ race_id  year race  locat…² type_…³ type_…⁴ polls…⁵ polls…⁶\n",
      "     <dbl>     <dbl>   <dbl> <dbl> <chr> <chr>   <chr>   <chr>   <chr>     <dbl>\n",
      " 1   47325     74070      52  2016 2016… NC      Gov-G   Gov-G   Siena …     448\n",
      " 2   47325     74050      62  2016 2016… NC      Sen-G   Sen-G   Siena …     448\n",
      " 3   47325     74047     629  2016 2016… NC      Pres-G  Pres-G  Siena …     448\n",
      " 4   47551     74389      86  2016 2016… PA      Sen-G   Sen-G   Siena …     448\n",
      " 5   47551     74387     640  2016 2016… PA      Pres-G  Pres-G  Siena …     448\n",
      " 6   47771     74777      93  2016 2016… FL      Sen-G   Sen-G   Siena …     448\n",
      " 7   47771     74762     611  2016 2016… FL      Pres-G  Pres-G  Siena …     448\n",
      " 8   48524     76188      52  2016 2016… NC      Gov-G   Gov-G   Siena …     448\n",
      " 9   48524     76067      62  2016 2016… NC      Sen-G   Sen-G   Siena …     448\n",
      "10   48524     76066     629  2016 2016… NC      Pres-G  Pres-G  Siena …     448\n",
      "# … with 73 more rows, 21 more variables: methodology <chr>, partisan <chr>,\n",
      "#   polldate <chr>, samplesize <dbl>, cand1_name <chr>, cand1_id <dbl>,\n",
      "#   cand1_party <chr>, cand1_pct <dbl>, cand2_name <chr>, cand2_id <dbl>,\n",
      "#   cand2_party <chr>, cand2_pct <dbl>, cand3_pct <dbl>, margin_poll <dbl>,\n",
      "#   electiondate <chr>, cand1_actual <dbl>, cand2_actual <dbl>,\n",
      "#   margin_actual <dbl>, bias <dbl>, rightcall <dbl>, comment <chr>, and\n",
      "#   abbreviated variable names ¹​question_id, ²​location, ³​type_simple, …\n",
      "# ℹ Use `print(n = ...)` to see more rows, and `colnames()` to see all variable names\n"
     ]
    }
   ],
   "source": [
    "%%R\n",
    "\n",
    "nyt_df"
   ]
  },
  {
   "cell_type": "code",
   "execution_count": 10,
   "metadata": {},
   "outputs": [
    {
     "data": {
      "image/png": "[encoded data removed]"
     },
     "metadata": {},
     "output_type": "display_data"
    }
   ],
   "source": [
    "%%R\n",
    "\n",
    "ggplot(nyt_df) +\n",
    "    aes(x=bias, y=type_simple, color=bias>0, alpha=.05) +\n",
    "    geom_point() +\n",
    "    geom_vline(aes(xintercept=0), color='grey')"
   ]
  },
  {
   "cell_type": "code",
   "execution_count": null,
   "metadata": {},
   "outputs": [],
   "source": []
  },
  {
   "cell_type": "markdown",
   "metadata": {},
   "source": [
    "👉 **Jayhawk Consulting**"
   ]
  },
  {
   "cell_type": "code",
   "execution_count": 11,
   "metadata": {},
   "outputs": [],
   "source": [
    "jay_df=df[df.pollster.str.contains(\"Jayhawk\")]"
   ]
  },
  {
   "cell_type": "code",
   "execution_count": 12,
   "metadata": {},
   "outputs": [
    {
     "data": {
      "text/html": [
       "<div>\n",
       "<style scoped>\n",
       "    .dataframe tbody tr th:only-of-type {\n",
       "        vertical-align: middle;\n",
       "    }\n",
       "\n",
       "    .dataframe tbody tr th {\n",
       "        vertical-align: top;\n",
       "    }\n",
       "\n",
       "    .dataframe thead th {\n",
       "        text-align: right;\n",
       "    }\n",
       "</style>\n",
       "<table border=\"1\" class=\"dataframe\">\n",
       "  <thead>\n",
       "    <tr style=\"text-align: right;\">\n",
       "      <th></th>\n",
       "      <th>poll_id</th>\n",
       "      <th>question_id</th>\n",
       "      <th>race_id</th>\n",
       "      <th>year</th>\n",
       "      <th>race</th>\n",
       "      <th>location</th>\n",
       "      <th>type_simple</th>\n",
       "      <th>type_detail</th>\n",
       "      <th>pollster</th>\n",
       "      <th>pollster_rating_id</th>\n",
       "      <th>methodology</th>\n",
       "      <th>partisan</th>\n",
       "      <th>polldate</th>\n",
       "      <th>samplesize</th>\n",
       "      <th>cand1_name</th>\n",
       "      <th>cand1_id</th>\n",
       "      <th>cand1_party</th>\n",
       "      <th>cand1_pct</th>\n",
       "      <th>cand2_name</th>\n",
       "      <th>cand2_id</th>\n",
       "      <th>cand2_party</th>\n",
       "      <th>cand2_pct</th>\n",
       "      <th>cand3_pct</th>\n",
       "      <th>margin_poll</th>\n",
       "      <th>electiondate</th>\n",
       "      <th>cand1_actual</th>\n",
       "      <th>cand2_actual</th>\n",
       "      <th>margin_actual</th>\n",
       "      <th>bias</th>\n",
       "      <th>rightcall</th>\n",
       "      <th>comment</th>\n",
       "    </tr>\n",
       "  </thead>\n",
       "  <tbody>\n",
       "    <tr>\n",
       "      <th>7325</th>\n",
       "      <td>36081</td>\n",
       "      <td>49015</td>\n",
       "      <td>5495</td>\n",
       "      <td>2014</td>\n",
       "      <td>2014_House-G_KS-1</td>\n",
       "      <td>KS-1</td>\n",
       "      <td>House-G</td>\n",
       "      <td>House-G</td>\n",
       "      <td>Jayhawk Consulting Services</td>\n",
       "      <td>157</td>\n",
       "      <td>Live Phone</td>\n",
       "      <td>D</td>\n",
       "      <td>10/26/14</td>\n",
       "      <td>400.0</td>\n",
       "      <td>James E. Sherow</td>\n",
       "      <td>5342</td>\n",
       "      <td>DEM</td>\n",
       "      <td>45.0</td>\n",
       "      <td>Tim Huelskamp</td>\n",
       "      <td>5335</td>\n",
       "      <td>REP</td>\n",
       "      <td>38.0</td>\n",
       "      <td>NaN</td>\n",
       "      <td>7.0</td>\n",
       "      <td>11/4/14</td>\n",
       "      <td>32.03</td>\n",
       "      <td>67.97</td>\n",
       "      <td>-35.94</td>\n",
       "      <td>42.94</td>\n",
       "      <td>0.0</td>\n",
       "      <td>for James E. Sherow</td>\n",
       "    </tr>\n",
       "    <tr>\n",
       "      <th>9146</th>\n",
       "      <td>56550</td>\n",
       "      <td>90986</td>\n",
       "      <td>330</td>\n",
       "      <td>2018</td>\n",
       "      <td>2018_House-G_KS-1</td>\n",
       "      <td>KS-1</td>\n",
       "      <td>House-G</td>\n",
       "      <td>House-G</td>\n",
       "      <td>Jayhawk Consulting Services</td>\n",
       "      <td>157</td>\n",
       "      <td>Live Phone</td>\n",
       "      <td>D</td>\n",
       "      <td>10/23/18</td>\n",
       "      <td>600.0</td>\n",
       "      <td>Alan LaPolice</td>\n",
       "      <td>11713</td>\n",
       "      <td>DEM</td>\n",
       "      <td>38.0</td>\n",
       "      <td>Roger Marshall</td>\n",
       "      <td>11714</td>\n",
       "      <td>REP</td>\n",
       "      <td>42.0</td>\n",
       "      <td>NaN</td>\n",
       "      <td>-4.0</td>\n",
       "      <td>11/6/18</td>\n",
       "      <td>31.85</td>\n",
       "      <td>68.15</td>\n",
       "      <td>-36.29</td>\n",
       "      <td>32.29</td>\n",
       "      <td>1.0</td>\n",
       "      <td>for Alan LaPolice</td>\n",
       "    </tr>\n",
       "  </tbody>\n",
       "</table>\n",
       "</div>"
      ],
      "text/plain": [
       "      poll_id  question_id  race_id  year               race location  \\\n",
       "7325    36081        49015     5495  2014  2014_House-G_KS-1     KS-1   \n",
       "9146    56550        90986      330  2018  2018_House-G_KS-1     KS-1   \n",
       "\n",
       "     type_simple type_detail                     pollster  pollster_rating_id  \\\n",
       "7325     House-G     House-G  Jayhawk Consulting Services                 157   \n",
       "9146     House-G     House-G  Jayhawk Consulting Services                 157   \n",
       "\n",
       "     methodology partisan  polldate  samplesize       cand1_name  cand1_id  \\\n",
       "7325  Live Phone        D  10/26/14       400.0  James E. Sherow      5342   \n",
       "9146  Live Phone        D  10/23/18       600.0    Alan LaPolice     11713   \n",
       "\n",
       "     cand1_party  cand1_pct      cand2_name  cand2_id cand2_party  cand2_pct  \\\n",
       "7325         DEM       45.0   Tim Huelskamp      5335         REP       38.0   \n",
       "9146         DEM       38.0  Roger Marshall     11714         REP       42.0   \n",
       "\n",
       "      cand3_pct  margin_poll electiondate  cand1_actual  cand2_actual  \\\n",
       "7325        NaN          7.0      11/4/14         32.03         67.97   \n",
       "9146        NaN         -4.0      11/6/18         31.85         68.15   \n",
       "\n",
       "      margin_actual   bias  rightcall              comment  \n",
       "7325         -35.94  42.94        0.0  for James E. Sherow  \n",
       "9146         -36.29  32.29        1.0    for Alan LaPolice  "
      ]
     },
     "execution_count": 12,
     "metadata": {},
     "output_type": "execute_result"
    }
   ],
   "source": [
    "jay_df"
   ]
  },
  {
   "cell_type": "code",
   "execution_count": 14,
   "metadata": {},
   "outputs": [
    {
     "name": "stdout",
     "output_type": "stream",
     "text": [
      "# A tibble: 2 × 31\n",
      "  poll_id question…¹ race_id  year race  locat…² type_…³ type_…⁴ polls…⁵ polls…⁶\n",
      "    <dbl>      <dbl>   <dbl> <dbl> <chr> <chr>   <chr>   <chr>   <chr>     <dbl>\n",
      "1   36081      49015    5495  2014 2014… KS-1    House-G House-G Jayhaw…     157\n",
      "2   56550      90986     330  2018 2018… KS-1    House-G House-G Jayhaw…     157\n",
      "# … with 21 more variables: methodology <chr>, partisan <chr>, polldate <chr>,\n",
      "#   samplesize <dbl>, cand1_name <chr>, cand1_id <dbl>, cand1_party <chr>,\n",
      "#   cand1_pct <dbl>, cand2_name <chr>, cand2_id <dbl>, cand2_party <chr>,\n",
      "#   cand2_pct <dbl>, cand3_pct <dbl>, margin_poll <dbl>, electiondate <chr>,\n",
      "#   cand1_actual <dbl>, cand2_actual <dbl>, margin_actual <dbl>, bias <dbl>,\n",
      "#   rightcall <dbl>, comment <chr>, and abbreviated variable names\n",
      "#   ¹​question_id, ²​location, ³​type_simple, ⁴​type_detail, ⁵​pollster, …\n",
      "# ℹ Use `colnames()` to see all variable names\n"
     ]
    }
   ],
   "source": [
    "%%R\n",
    "jay_df <- df %>%\n",
    "    filter(pollster=='Jayhawk Consulting Services') # Filter data to polls for  Jayhawk\n",
    "\n",
    "\n",
    "jay_df"
   ]
  },
  {
   "cell_type": "code",
   "execution_count": null,
   "metadata": {},
   "outputs": [],
   "source": []
  },
  {
   "cell_type": "code",
   "execution_count": 15,
   "metadata": {},
   "outputs": [],
   "source": [
    "%%R\n",
    "jay_df <- df %>%\n",
    "    filter(pollster=='Jayhawk Consulting')"
   ]
  },
  {
   "cell_type": "code",
   "execution_count": 16,
   "metadata": {},
   "outputs": [
    {
     "name": "stdout",
     "output_type": "stream",
     "text": [
      "# A tibble: 0 × 31\n",
      "# … with 31 variables: poll_id <dbl>, question_id <dbl>, race_id <dbl>,\n",
      "#   year <dbl>, race <chr>, location <chr>, type_simple <chr>,\n",
      "#   type_detail <chr>, pollster <chr>, pollster_rating_id <dbl>,\n",
      "#   methodology <chr>, partisan <chr>, polldate <chr>, samplesize <dbl>,\n",
      "#   cand1_name <chr>, cand1_id <dbl>, cand1_party <chr>, cand1_pct <dbl>,\n",
      "#   cand2_name <chr>, cand2_id <dbl>, cand2_party <chr>, cand2_pct <dbl>,\n",
      "#   cand3_pct <dbl>, margin_poll <dbl>, electiondate <chr>, …\n",
      "# ℹ Use `colnames()` to see all variable names\n"
     ]
    }
   ],
   "source": [
    "%%R\n",
    "jay_df"
   ]
  },
  {
   "cell_type": "code",
   "execution_count": 23,
   "metadata": {},
   "outputs": [
    {
     "data": {
      "image/png": "[encoded data removed]"
     },
     "metadata": {},
     "output_type": "display_data"
    }
   ],
   "source": [
    "%%R\n",
    "\n",
    "ggplot(jay_df) +\n",
    "    aes(x=bias, alpha=.05) +\n",
    "    geom_point(size=5) +\n",
    "    geom_vline(aes(xintercept=0), color='black')"
   ]
  },
  {
   "cell_type": "markdown",
   "metadata": {},
   "source": [
    "👉 **Fox News/Beacon Research/Shaw & Co. Research**"
   ]
  },
  {
   "cell_type": "code",
   "execution_count": 24,
   "metadata": {},
   "outputs": [],
   "source": [
    "%%R\n",
    "fox_df <- df %>%\n",
    "    filter(pollster=='Fox News/Beacon Research/Shaw & Co. Research')"
   ]
  },
  {
   "cell_type": "code",
   "execution_count": 25,
   "metadata": {},
   "outputs": [
    {
     "data": {
      "image/png": "[encoded data removed]"
     },
     "metadata": {},
     "output_type": "display_data"
    }
   ],
   "source": [
    "%%R\n",
    "\n",
    "ggplot(fox_df) +\n",
    "    aes(x=bias, y=type_simple, color=bias>0, alpha=.05) +\n",
    "    geom_point() +\n",
    "    geom_vline(aes(xintercept=0), color='grey')"
   ]
  },
  {
   "cell_type": "markdown",
   "metadata": {},
   "source": [
    "👉 **Brown University**"
   ]
  },
  {
   "cell_type": "code",
   "execution_count": 26,
   "metadata": {},
   "outputs": [
    {
     "data": {
      "image/png": "[encoded data removed]"
     },
     "metadata": {},
     "output_type": "display_data"
    }
   ],
   "source": [
    "%%R\n",
    "brown_df <- df %>%\n",
    "    filter(pollster=='Brown University')\n",
    "\n",
    "ggplot(brown_df) +\n",
    "    aes(x=bias, y=type_simple, color=bias>0, alpha=.05) +\n",
    "    geom_point() +\n",
    "    geom_vline(aes(xintercept=0), color='grey')"
   ]
  },
  {
   "cell_type": "code",
   "execution_count": null,
   "metadata": {},
   "outputs": [],
   "source": []
  },
  {
   "cell_type": "markdown",
   "metadata": {},
   "source": [
    "👉 **American Research Group**"
   ]
  },
  {
   "cell_type": "code",
   "execution_count": 27,
   "metadata": {},
   "outputs": [
    {
     "data": {
      "image/png": "[encoded data removed]"
     },
     "metadata": {},
     "output_type": "display_data"
    }
   ],
   "source": [
    "%%R\n",
    "arg_df <- df %>%\n",
    "    filter(pollster=='American Research Group')\n",
    "\n",
    "ggplot(arg_df) +\n",
    "    aes(x=bias, y=type_simple, color=bias>0, alpha=.05) +\n",
    "    geom_point() +\n",
    "    geom_vline(aes(xintercept=0), color='grey')"
   ]
  },
  {
   "cell_type": "markdown",
   "metadata": {},
   "source": [
    "### Question 2: Which pollsters are the most accurate? Which are the least accurate?"
   ]
  },
  {
   "cell_type": "markdown",
   "metadata": {},
   "source": [
    "👉 Which pollsters are the most accurate?"
   ]
  },
  {
   "cell_type": "code",
   "execution_count": 35,
   "metadata": {},
   "outputs": [
    {
     "name": "stdout",
     "output_type": "stream",
     "text": [
      "# A tibble: 10 × 31\n",
      "   poll_id questio…¹ race_id  year race  locat…² type_…³ type_…⁴ polls…⁵ polls…⁶\n",
      "     <dbl>     <dbl>   <dbl> <dbl> <chr> <chr>   <chr>   <chr>   <chr>     <dbl>\n",
      " 1   32572     39168    1516  2010 2010… HI      Sen-G   Sen-G   Rasmus…     277\n",
      " 2   48337     75723      60  2016 2016… KS      Sen-G   Sen-G   Fort H…     101\n",
      " 3   73896     81249    5159  2012 2012… NY-6    House-G House-G McLaug…     203\n",
      " 4   51691     81725    4534  2010 2010… CO-1    House-G House-G ccAdve…     396\n",
      " 5   64020    117824    4367  2008 2008… PA-12   House-G House-G Dane &…      71\n",
      " 6   25065     30303    1612  2006 2006… WI      Sen-G   Sen-G   Zogby …     395\n",
      " 7   64140    118013    1997  1998 1998… IN-10   House-G House-G Massie…     199\n",
      " 8   74149    139076    3979  2006 2006… TX-22   House-G House-G Zogby …     395\n",
      " 9   26189     87943    1459  1998 1998… PA      Gov-G   Gov-G   Miller…     210\n",
      "10   54450     27280    1690  2000 2000… IN      Sen-G   Sen-G   Market…     187\n",
      "# … with 21 more variables: methodology <chr>, partisan <chr>, polldate <chr>,\n",
      "#   samplesize <dbl>, cand1_name <chr>, cand1_id <dbl>, cand1_party <chr>,\n",
      "#   cand1_pct <dbl>, cand2_name <chr>, cand2_id <dbl>, cand2_party <chr>,\n",
      "#   cand2_pct <dbl>, cand3_pct <dbl>, margin_poll <dbl>, electiondate <chr>,\n",
      "#   cand1_actual <dbl>, cand2_actual <dbl>, margin_actual <dbl>, bias <dbl>,\n",
      "#   rightcall <dbl>, comment <chr>, and abbreviated variable names\n",
      "#   ¹​question_id, ²​location, ³​type_simple, ⁴​type_detail, ⁵​pollster, …\n",
      "# ℹ Use `colnames()` to see all variable names\n"
     ]
    }
   ],
   "source": [
    "%%R\n",
    "\n",
    "\n",
    "head(df[order(df$bias),],10)"
   ]
  },
  {
   "cell_type": "code",
   "execution_count": 39,
   "metadata": {},
   "outputs": [
    {
     "data": {
      "image/png": "[encoded data removed]"
     },
     "metadata": {},
     "output_type": "display_data"
    }
   ],
   "source": [
    "%%R\n",
    "\n",
    "\n",
    "hist(df$bias)"
   ]
  },
  {
   "cell_type": "markdown",
   "metadata": {},
   "source": [
    "<h3>If you use bias to decide, the pollsters with the smallest bias are as follows:</h3>\n",
    "\n",
    "Mason-Dixon Polling & Strategy\"         \n",
    "\"Marist College\"                         \n",
    "\"University of Cincinnati (Ohio Poll)\"   \n",
    "\"Columbus Dispatch\"                      \n",
    "\"Angus Reid Global\"                      \n",
    "\"Y2 Analytics\"                           \n",
    "\"Siena College/The New York Times Upshot\"\n",
    "\"RMG Research\"       "
   ]
  },
  {
   "cell_type": "code",
   "execution_count": 54,
   "metadata": {},
   "outputs": [
    {
     "name": "stdout",
     "output_type": "stream",
     "text": [
      "[1] NA                                       \n",
      "[2] \"Mason-Dixon Polling & Strategy\"         \n",
      "[3] \"Marist College\"                         \n",
      "[4] \"University of Cincinnati (Ohio Poll)\"   \n",
      "[5] \"Columbus Dispatch\"                      \n",
      "[6] \"Angus Reid Global\"                      \n",
      "[7] \"Y2 Analytics\"                           \n",
      "[8] \"Siena College/The New York Times Upshot\"\n",
      "[9] \"RMG Research\"                           \n"
     ]
    }
   ],
   "source": [
    "%%R\n",
    "\n",
    "# subset(df, bias>-0.5 & date<0.5)\n",
    "\n",
    "\n",
    "small_bias_df<-df[df$bias>-0.01 & df$bias<0.01, ]\n",
    "unique(small_bias_df$pollster)"
   ]
  },
  {
   "cell_type": "markdown",
   "metadata": {},
   "source": [
    "<h3>If you use number of right calls to decide, the pollsters with the highest number of right calls are as follows:</h3>\n",
    "\n",
    ">>SurveyUSA  \n",
    "\n",
    ">>Rasmussen Reports/Pulse Opinion Research\n",
    "\n",
    ">>YouGov\n",
    "\n",
    ">>Mason-Dixon Polling & Strategy\n",
    "\n",
    ">>Zogby Interactive/JZ Analytics\n",
    "\n",
    ">>Public Policy Polling\n",
    "\n",
    ">>Research \n",
    "\n",
    ">>SurveyMonkey\n",
    "\n",
    ">>American Research Group\n",
    "\n",
    ">>Quinnipiac University\n",
    "  "
   ]
  },
  {
   "cell_type": "code",
   "execution_count": 58,
   "metadata": {},
   "outputs": [
    {
     "name": "stdout",
     "output_type": "stream",
     "text": [
      "# A tibble: 456 × 2\n",
      "   pollster                                     n\n",
      "   <chr>                                    <int>\n",
      " 1 SurveyUSA                                  730\n",
      " 2 Rasmussen Reports/Pulse Opinion Research   564\n",
      " 3 YouGov                                     397\n",
      " 4 Mason-Dixon Polling & Strategy             376\n",
      " 5 Zogby Interactive/JZ Analytics             354\n",
      " 6 Public Policy Polling                      349\n",
      " 7 Research 2000                              241\n",
      " 8 SurveyMonkey                               233\n",
      " 9 American Research Group                    203\n",
      "10 Quinnipiac University                      175\n",
      "# … with 446 more rows\n",
      "# ℹ Use `print(n = ...)` to see more rows\n"
     ]
    }
   ],
   "source": [
    "%%R\n",
    "\n",
    "# subset(df, bias>-0.5 & date<0.5)\n",
    "\n",
    "\n",
    "# most_right_df<-df[df$rightcall==1, ]\n",
    "# table(most_right_df$pollster)\n",
    "\n",
    "\n",
    "\n",
    "dplyr::count(most_right_df, pollster, sort = TRUE) \n"
   ]
  },
  {
   "cell_type": "code",
   "execution_count": null,
   "metadata": {},
   "outputs": [],
   "source": []
  },
  {
   "cell_type": "markdown",
   "metadata": {},
   "source": [
    "👉 Which are the least accurate?"
   ]
  },
  {
   "cell_type": "code",
   "execution_count": 13,
   "metadata": {},
   "outputs": [
    {
     "name": "stdout",
     "output_type": "stream",
     "text": [
      "[1] \"Jayhawk Consulting Services\" \"Riggs Research Services\"    \n",
      "[3] \"Jayhawk Consulting Services\" \"RMS Research\"               \n",
      "[5] \"American Research Group\"     \"Research 2000\"              \n"
     ]
    }
   ],
   "source": [
    "%%R\n",
    "\n",
    "large_bias_df <- df[order(df$bias, decreasing=TRUE),]\n",
    "head(large_bias_df$pollster)"
   ]
  },
  {
   "cell_type": "code",
   "execution_count": null,
   "metadata": {},
   "outputs": [],
   "source": []
  },
  {
   "cell_type": "code",
   "execution_count": null,
   "metadata": {},
   "outputs": [],
   "source": []
  },
  {
   "cell_type": "markdown",
   "metadata": {},
   "source": [
    "### Question 2 Reflections"
   ]
  },
  {
   "cell_type": "markdown",
   "metadata": {},
   "source": [
    "👉 Write a summary paragraph explaining how you decided what constitutes “most accurate” and \"least accurate\"?\n"
   ]
  },
  {
   "cell_type": "markdown",
   "metadata": {},
   "source": [
    "👉 In bullet point form, name **methodological choices** you made in the process of determining which pollsters were the most and least accurate.\n"
   ]
  },
  {
   "cell_type": "markdown",
   "metadata": {},
   "source": [
    "👉 In bullet point form, list the **limitations** of your approach \n"
   ]
  },
  {
   "cell_type": "markdown",
   "metadata": {},
   "source": [
    "<h3>For which polls are the most accurate:</h3>\n",
    "    \n",
    "-We used a straightforward way:\n",
    "    \n",
    "-The smaller the bias the better the pollster \n",
    "\n",
    "-The more the right calls the better the pollster\n",
    "\n",
    "However, what would be more accurate would be a normalised version of this. That is, it would\n",
    "be more accurate to figure out what percent of the time a pollster was correct. \n",
    "It would also require some interviewing to check which of these polls are \"more obvious\". The \n",
    "data could answer this by calculating how many pollsters got it right. In addition, speaking to experts or\n",
    "understanding the political context could also make it clearer. For instance, if a pollster is \n",
    "running in a historically right or left wing space, then they are more likely to make the\n",
    "right call."
   ]
  },
  {
   "cell_type": "markdown",
   "metadata": {},
   "source": [
    "<h3>For which polls are the least accurate:</h3>\n"
   ]
  },
  {
   "attachments": {},
   "cell_type": "markdown",
   "metadata": {},
   "source": [
    "- We used a straightforward way for this as well, where we decided which pollsters are the least accurate depending on their biases. \n",
    "- future improvements can be to group the polls by year/election, and to look at the number of times the pollster has conducted polls."
   ]
  },
  {
   "cell_type": "code",
   "execution_count": null,
   "metadata": {},
   "outputs": [],
   "source": []
  }
 ],
 "metadata": {
  "kernelspec": {
   "display_name": "Python 3 (ipykernel)",
   "language": "python",
   "name": "python3"
  },
  "language_info": {
   "codemirror_mode": {
    "name": "ipython",
    "version": 3
   },
   "file_extension": ".py",
   "mimetype": "text/x-python",
   "name": "python",
   "nbconvert_exporter": "python",
   "pygments_lexer": "ipython3",
   "version": "3.11.1"
  },
  "vscode": {
   "interpreter": {
    "hash": "34166945ca6cc351f9d38b360afe1a928411c84fd696a9e2d08d61ef3f7e4692"
   }
  }
 },
 "nbformat": 4,
 "nbformat_minor": 4
}
